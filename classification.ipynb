{
 "cells": [
  {
   "cell_type": "code",
   "execution_count": 1,
   "metadata": {},
   "outputs": [
    {
     "name": "stdout",
     "output_type": "stream",
     "text": [
      "WARNING:tensorflow:From c:\\Users\\emrul\\AppData\\Local\\Programs\\Python\\Python310\\lib\\site-packages\\tf_keras\\src\\losses.py:2976: The name tf.losses.sparse_softmax_cross_entropy is deprecated. Please use tf.compat.v1.losses.sparse_softmax_cross_entropy instead.\n",
      "\n"
     ]
    },
    {
     "name": "stderr",
     "output_type": "stream",
     "text": [
      "[nltk_data] Downloading package stopwords to\n",
      "[nltk_data]     C:\\Users\\emrul\\AppData\\Roaming\\nltk_data...\n",
      "[nltk_data]   Package stopwords is already up-to-date!\n"
     ]
    },
    {
     "data": {
      "text/plain": [
       "True"
      ]
     },
     "execution_count": 1,
     "metadata": {},
     "output_type": "execute_result"
    }
   ],
   "source": [
    "import pandas as pd\n",
    "import numpy as np\n",
    "\n",
    "#Görselleştirme\n",
    "import matplotlib.pyplot as plt\n",
    "import plotly.express as px\n",
    "from wordcloud import WordCloud\n",
    "\n",
    "#cleaning\n",
    "import re\n",
    "from bs4 import BeautifulSoup\n",
    "\n",
    "#nlp\n",
    "import string\n",
    "import nltk\n",
    "from nltk.tokenize import word_tokenize\n",
    "from nltk.corpus import stopwords\n",
    "from nltk.stem import PorterStemmer, LancasterStemmer,WordNetLemmatizer\n",
    "import spacy\n",
    "\n",
    "\n",
    "#modelleme\n",
    "\n",
    "from sklearn.pipeline import Pipeline\n",
    "from sklearn.ensemble import RandomForestClassifier\n",
    "import xgboost as xgb\n",
    "from sklearn.neighbors import KNeighborsClassifier\n",
    "from sklearn.naive_bayes import MultinomialNB\n",
    "from sklearn.preprocessing import MinMaxScaler\n",
    "from sklearn.linear_model import LogisticRegression\n",
    "import lightgbm as lgb\n",
    "from catboost import CatBoostClassifier\n",
    "from sklearn.model_selection import train_test_split\n",
    "from sklearn.metrics import accuracy_score, precision_score, recall_score, f1_score, classification_report\n",
    "from sklearn.feature_extraction.text import CountVectorizer, TfidfVectorizer \n",
    "from sklearn.preprocessing import LabelEncoder\n",
    "from sklearn.feature_extraction.text import TfidfTransformer\n",
    "from transformers import BertTokenizer\n",
    "\n",
    "import torch\n",
    "from transformers import TrainingArguments, Trainer\n",
    "from transformers import BertTokenizer, BertForSequenceClassification\n",
    "\n",
    "import fasttext\n",
    "\n",
    "\n",
    "nltk.download('stopwords')\n",
    "\n"
   ]
  },
  {
   "cell_type": "code",
   "execution_count": 2,
   "metadata": {},
   "outputs": [
    {
     "data": {
      "text/html": [
       "<div>\n",
       "<style scoped>\n",
       "    .dataframe tbody tr th:only-of-type {\n",
       "        vertical-align: middle;\n",
       "    }\n",
       "\n",
       "    .dataframe tbody tr th {\n",
       "        vertical-align: top;\n",
       "    }\n",
       "\n",
       "    .dataframe thead th {\n",
       "        text-align: right;\n",
       "    }\n",
       "</style>\n",
       "<table border=\"1\" class=\"dataframe\">\n",
       "  <thead>\n",
       "    <tr style=\"text-align: right;\">\n",
       "      <th></th>\n",
       "      <th>Clothing ID</th>\n",
       "      <th>Age</th>\n",
       "      <th>Title</th>\n",
       "      <th>Review Text</th>\n",
       "      <th>Rating</th>\n",
       "      <th>Recommended IND</th>\n",
       "      <th>Positive Feedback Count</th>\n",
       "      <th>Division Name</th>\n",
       "      <th>Department Name</th>\n",
       "      <th>Class Name</th>\n",
       "    </tr>\n",
       "  </thead>\n",
       "  <tbody>\n",
       "    <tr>\n",
       "      <th>0</th>\n",
       "      <td>767</td>\n",
       "      <td>33</td>\n",
       "      <td>NaN</td>\n",
       "      <td>Absolutely wonderful - silky and sexy and comf...</td>\n",
       "      <td>4</td>\n",
       "      <td>1</td>\n",
       "      <td>0</td>\n",
       "      <td>Initmates</td>\n",
       "      <td>Intimate</td>\n",
       "      <td>Intimates</td>\n",
       "    </tr>\n",
       "    <tr>\n",
       "      <th>1</th>\n",
       "      <td>1080</td>\n",
       "      <td>34</td>\n",
       "      <td>NaN</td>\n",
       "      <td>Love this dress!  it's sooo pretty.  i happene...</td>\n",
       "      <td>5</td>\n",
       "      <td>1</td>\n",
       "      <td>4</td>\n",
       "      <td>General</td>\n",
       "      <td>Dresses</td>\n",
       "      <td>Dresses</td>\n",
       "    </tr>\n",
       "  </tbody>\n",
       "</table>\n",
       "</div>"
      ],
      "text/plain": [
       "   Clothing ID  Age Title                                        Review Text  \\\n",
       "0          767   33   NaN  Absolutely wonderful - silky and sexy and comf...   \n",
       "1         1080   34   NaN  Love this dress!  it's sooo pretty.  i happene...   \n",
       "\n",
       "   Rating  Recommended IND  Positive Feedback Count Division Name  \\\n",
       "0       4                1                        0     Initmates   \n",
       "1       5                1                        4       General   \n",
       "\n",
       "  Department Name Class Name  \n",
       "0        Intimate  Intimates  \n",
       "1         Dresses    Dresses  "
      ]
     },
     "execution_count": 2,
     "metadata": {},
     "output_type": "execute_result"
    }
   ],
   "source": [
    "data =pd.read_csv(\"data/Clothing/Womens Clothing E-Commerce Reviews.csv\",index_col=0)\n",
    "data.head(2)\n"
   ]
  },
  {
   "cell_type": "code",
   "execution_count": 3,
   "metadata": {},
   "outputs": [
    {
     "data": {
      "text/plain": [
       "23486"
      ]
     },
     "execution_count": 3,
     "metadata": {},
     "output_type": "execute_result"
    }
   ],
   "source": [
    "len(data)"
   ]
  },
  {
   "cell_type": "code",
   "execution_count": 4,
   "metadata": {},
   "outputs": [
    {
     "data": {
      "text/html": [
       "<div>\n",
       "<style scoped>\n",
       "    .dataframe tbody tr th:only-of-type {\n",
       "        vertical-align: middle;\n",
       "    }\n",
       "\n",
       "    .dataframe tbody tr th {\n",
       "        vertical-align: top;\n",
       "    }\n",
       "\n",
       "    .dataframe thead th {\n",
       "        text-align: right;\n",
       "    }\n",
       "</style>\n",
       "<table border=\"1\" class=\"dataframe\">\n",
       "  <thead>\n",
       "    <tr style=\"text-align: right;\">\n",
       "      <th></th>\n",
       "      <th>clothingID</th>\n",
       "      <th>review</th>\n",
       "      <th>rating</th>\n",
       "    </tr>\n",
       "  </thead>\n",
       "  <tbody>\n",
       "    <tr>\n",
       "      <th>0</th>\n",
       "      <td>767</td>\n",
       "      <td>Absolutely wonderful - silky and sexy and comf...</td>\n",
       "      <td>4</td>\n",
       "    </tr>\n",
       "    <tr>\n",
       "      <th>1</th>\n",
       "      <td>1080</td>\n",
       "      <td>Love this dress!  it's sooo pretty.  i happene...</td>\n",
       "      <td>5</td>\n",
       "    </tr>\n",
       "    <tr>\n",
       "      <th>2</th>\n",
       "      <td>1077</td>\n",
       "      <td>I had such high hopes for this dress and reall...</td>\n",
       "      <td>3</td>\n",
       "    </tr>\n",
       "    <tr>\n",
       "      <th>3</th>\n",
       "      <td>1049</td>\n",
       "      <td>I love, love, love this jumpsuit. it's fun, fl...</td>\n",
       "      <td>5</td>\n",
       "    </tr>\n",
       "    <tr>\n",
       "      <th>4</th>\n",
       "      <td>847</td>\n",
       "      <td>This shirt is very flattering to all due to th...</td>\n",
       "      <td>5</td>\n",
       "    </tr>\n",
       "  </tbody>\n",
       "</table>\n",
       "</div>"
      ],
      "text/plain": [
       "   clothingID                                             review  rating\n",
       "0         767  Absolutely wonderful - silky and sexy and comf...       4\n",
       "1        1080  Love this dress!  it's sooo pretty.  i happene...       5\n",
       "2        1077  I had such high hopes for this dress and reall...       3\n",
       "3        1049  I love, love, love this jumpsuit. it's fun, fl...       5\n",
       "4         847  This shirt is very flattering to all due to th...       5"
      ]
     },
     "execution_count": 4,
     "metadata": {},
     "output_type": "execute_result"
    }
   ],
   "source": [
    "data = data[[\"Clothing ID\",\"Review Text\",\"Rating\"]]\n",
    "data.columns = [\"clothingID\",\"review\",\"rating\"]\n",
    "data.head()"
   ]
  },
  {
   "cell_type": "code",
   "execution_count": 5,
   "metadata": {},
   "outputs": [
    {
     "data": {
      "text/plain": [
       "clothingID     int64\n",
       "review        object\n",
       "rating         int64\n",
       "dtype: object"
      ]
     },
     "execution_count": 5,
     "metadata": {},
     "output_type": "execute_result"
    }
   ],
   "source": [
    "data.dtypes"
   ]
  },
  {
   "cell_type": "code",
   "execution_count": 6,
   "metadata": {},
   "outputs": [
    {
     "data": {
      "text/plain": [
       "(23486, 3)"
      ]
     },
     "execution_count": 6,
     "metadata": {},
     "output_type": "execute_result"
    }
   ],
   "source": [
    "data.shape"
   ]
  },
  {
   "cell_type": "code",
   "execution_count": 7,
   "metadata": {},
   "outputs": [
    {
     "data": {
      "text/plain": [
       "clothingID      0\n",
       "review        845\n",
       "rating          0\n",
       "dtype: int64"
      ]
     },
     "execution_count": 7,
     "metadata": {},
     "output_type": "execute_result"
    }
   ],
   "source": [
    "data.isnull().sum()"
   ]
  },
  {
   "cell_type": "code",
   "execution_count": 8,
   "metadata": {},
   "outputs": [
    {
     "data": {
      "text/plain": [
       "(22641, 3)"
      ]
     },
     "execution_count": 8,
     "metadata": {},
     "output_type": "execute_result"
    }
   ],
   "source": [
    "data.dropna(inplace=True)\n",
    "data.shape"
   ]
  },
  {
   "cell_type": "code",
   "execution_count": 9,
   "metadata": {},
   "outputs": [
    {
     "data": {
      "text/plain": [
       "rating\n",
       "5    12540\n",
       "4     4908\n",
       "3     2823\n",
       "2     1549\n",
       "1      821\n",
       "Name: count, dtype: int64"
      ]
     },
     "execution_count": 9,
     "metadata": {},
     "output_type": "execute_result"
    }
   ],
   "source": [
    "data[\"rating\"].value_counts()"
   ]
  },
  {
   "cell_type": "code",
   "execution_count": 10,
   "metadata": {},
   "outputs": [
    {
     "data": {
      "text/plain": [
       "<Axes: ylabel='count'>"
      ]
     },
     "execution_count": 10,
     "metadata": {},
     "output_type": "execute_result"
    },
    {
     "data": {
      "image/png": "[encoded data removed]",
      "text/plain": [
       "<Figure size 400x400 with 1 Axes>"
      ]
     },
     "metadata": {},
     "output_type": "display_data"
    }
   ],
   "source": [
    "data[\"rating\"].value_counts().plot.pie(autopct='%1.1f%%', figsize=(4,4))"
   ]
  },
  {
   "cell_type": "code",
   "execution_count": 11,
   "metadata": {},
   "outputs": [],
   "source": [
    "#def stopwords\n",
    "stopWords = set(stopwords.words('english'))\n",
    "nlp = spacy.load(\"en_core_web_lg\")\n",
    "\n",
    "with open('data/stopwords-en.txt', 'r',encoding='utf-8') as file:\n",
    "    stopWords2 = [line.strip() for line in file]"
   ]
  },
  {
   "cell_type": "code",
   "execution_count": 12,
   "metadata": {},
   "outputs": [
    {
     "name": "stderr",
     "output_type": "stream",
     "text": [
      "C:\\Users\\emrul\\AppData\\Local\\Temp\\ipykernel_14068\\1269646468.py:11: MarkupResemblesLocatorWarning: The input looks more like a filename than markup. You may want to open this file and pass the filehandle into Beautiful Soup.\n",
      "  review = BeautifulSoup(review,\"html.parser\").get_text()\n"
     ]
    }
   ],
   "source": [
    "def lemmatize(cleanTokens):\n",
    "   lemmatizedTokens = [token.lemma_ for token in nlp(\" \".join(cleanTokens))]\n",
    "   return lemmatizedTokens\n",
    "\n",
    "def cleanReview(review):\n",
    "\n",
    "    #küçük harf dönüşümü\n",
    "    review = review.lower()\n",
    "\n",
    "    #html ayıkla \n",
    "    review = BeautifulSoup(review,\"html.parser\").get_text()\n",
    "\n",
    "    #yabancı karakter ayıkla\n",
    "    review= re.sub('[^A-Za-z]',\" \",review)\n",
    "    #text = re.sub(r'[^a-zA-Z\\s]', '', text)\n",
    "\n",
    "    \n",
    "    #tokenize et\n",
    "    reviewTokens = word_tokenize(review)\n",
    "\n",
    "    #StopWords kaldırma\n",
    "    cleanTokens=[token for token in reviewTokens if token not in stopWords2]\n",
    "\n",
    "    return cleanTokens\n",
    "\n",
    "def preProcess(review):\n",
    "    cleanTokens = cleanReview(review)\n",
    "    lemmatizedTokens = lemmatize(cleanTokens)\n",
    "    return \" \".join(lemmatizedTokens)\n",
    "\n",
    "data[\"cleanReview\"]=data[\"review\"].apply(lambda review: preProcess(review))"
   ]
  },
  {
   "cell_type": "code",
   "execution_count": 13,
   "metadata": {},
   "outputs": [
    {
     "data": {
      "text/html": [
       "<div>\n",
       "<style scoped>\n",
       "    .dataframe tbody tr th:only-of-type {\n",
       "        vertical-align: middle;\n",
       "    }\n",
       "\n",
       "    .dataframe tbody tr th {\n",
       "        vertical-align: top;\n",
       "    }\n",
       "\n",
       "    .dataframe thead th {\n",
       "        text-align: right;\n",
       "    }\n",
       "</style>\n",
       "<table border=\"1\" class=\"dataframe\">\n",
       "  <thead>\n",
       "    <tr style=\"text-align: right;\">\n",
       "      <th></th>\n",
       "      <th>clothingID</th>\n",
       "      <th>review</th>\n",
       "      <th>rating</th>\n",
       "      <th>cleanReview</th>\n",
       "    </tr>\n",
       "  </thead>\n",
       "  <tbody>\n",
       "    <tr>\n",
       "      <th>0</th>\n",
       "      <td>767</td>\n",
       "      <td>Absolutely wonderful - silky and sexy and comf...</td>\n",
       "      <td>4</td>\n",
       "      <td>absolutely wonderful silky sexy comfortable</td>\n",
       "    </tr>\n",
       "    <tr>\n",
       "      <th>1</th>\n",
       "      <td>1080</td>\n",
       "      <td>Love this dress!  it's sooo pretty.  i happene...</td>\n",
       "      <td>5</td>\n",
       "      <td>love dress sooo pretty happen store glad bc on...</td>\n",
       "    </tr>\n",
       "    <tr>\n",
       "      <th>2</th>\n",
       "      <td>1077</td>\n",
       "      <td>I had such high hopes for this dress and reall...</td>\n",
       "      <td>3</td>\n",
       "      <td>hope dress initially petite usual size outrage...</td>\n",
       "    </tr>\n",
       "    <tr>\n",
       "      <th>3</th>\n",
       "      <td>1049</td>\n",
       "      <td>I love, love, love this jumpsuit. it's fun, fl...</td>\n",
       "      <td>5</td>\n",
       "      <td>love love love jumpsuit fun flirty fabulous ti...</td>\n",
       "    </tr>\n",
       "    <tr>\n",
       "      <th>4</th>\n",
       "      <td>847</td>\n",
       "      <td>This shirt is very flattering to all due to th...</td>\n",
       "      <td>5</td>\n",
       "      <td>shirt flattering adjustable tie perfect wear l...</td>\n",
       "    </tr>\n",
       "  </tbody>\n",
       "</table>\n",
       "</div>"
      ],
      "text/plain": [
       "   clothingID                                             review  rating  \\\n",
       "0         767  Absolutely wonderful - silky and sexy and comf...       4   \n",
       "1        1080  Love this dress!  it's sooo pretty.  i happene...       5   \n",
       "2        1077  I had such high hopes for this dress and reall...       3   \n",
       "3        1049  I love, love, love this jumpsuit. it's fun, fl...       5   \n",
       "4         847  This shirt is very flattering to all due to th...       5   \n",
       "\n",
       "                                         cleanReview  \n",
       "0        absolutely wonderful silky sexy comfortable  \n",
       "1  love dress sooo pretty happen store glad bc on...  \n",
       "2  hope dress initially petite usual size outrage...  \n",
       "3  love love love jumpsuit fun flirty fabulous ti...  \n",
       "4  shirt flattering adjustable tie perfect wear l...  "
      ]
     },
     "execution_count": 13,
     "metadata": {},
     "output_type": "execute_result"
    }
   ],
   "source": [
    "#data.to_csv(\"data/Clothing/clothingClear.csv\",index=False)\n",
    "#data =pd.read_csv(\"data/Clothing/clothingClear.csv\")\n",
    "data.head()"
   ]
  },
  {
   "cell_type": "code",
   "execution_count": 14,
   "metadata": {},
   "outputs": [
    {
     "data": {
      "text/plain": [
       "(22641, 4)"
      ]
     },
     "execution_count": 14,
     "metadata": {},
     "output_type": "execute_result"
    }
   ],
   "source": [
    "#temizlemeden dolayı bazı reviewlerde null değer oluştu\n",
    "data.isnull().sum()\n",
    "data.dropna(inplace=True)\n",
    "data.shape"
   ]
  },
  {
   "cell_type": "code",
   "execution_count": 15,
   "metadata": {},
   "outputs": [
    {
     "data": {
      "text/html": [
       "<div>\n",
       "<style scoped>\n",
       "    .dataframe tbody tr th:only-of-type {\n",
       "        vertical-align: middle;\n",
       "    }\n",
       "\n",
       "    .dataframe tbody tr th {\n",
       "        vertical-align: top;\n",
       "    }\n",
       "\n",
       "    .dataframe thead th {\n",
       "        text-align: right;\n",
       "    }\n",
       "</style>\n",
       "<table border=\"1\" class=\"dataframe\">\n",
       "  <thead>\n",
       "    <tr style=\"text-align: right;\">\n",
       "      <th></th>\n",
       "      <th>clothingID</th>\n",
       "      <th>review</th>\n",
       "      <th>rating</th>\n",
       "      <th>cleanReview</th>\n",
       "      <th>review_spacy_vec</th>\n",
       "    </tr>\n",
       "  </thead>\n",
       "  <tbody>\n",
       "    <tr>\n",
       "      <th>7723</th>\n",
       "      <td>936</td>\n",
       "      <td>This sweater is amazing. color is vibrant. qua...</td>\n",
       "      <td>4</td>\n",
       "      <td>sweater amazing color vibrant quality super to...</td>\n",
       "      <td>[-1.488106, 0.12671652, -2.5911393, -0.937523,...</td>\n",
       "    </tr>\n",
       "  </tbody>\n",
       "</table>\n",
       "</div>"
      ],
      "text/plain": [
       "      clothingID                                             review  rating  \\\n",
       "7723         936  This sweater is amazing. color is vibrant. qua...       4   \n",
       "\n",
       "                                            cleanReview  \\\n",
       "7723  sweater amazing color vibrant quality super to...   \n",
       "\n",
       "                                       review_spacy_vec  \n",
       "7723  [-1.488106, 0.12671652, -2.5911393, -0.937523,...  "
      ]
     },
     "execution_count": 15,
     "metadata": {},
     "output_type": "execute_result"
    }
   ],
   "source": [
    "data[\"review_spacy_vec\"] = data[\"cleanReview\"].apply(lambda text: nlp(text).vector)\n",
    "data.sample(1)"
   ]
  },
  {
   "cell_type": "code",
   "execution_count": 16,
   "metadata": {},
   "outputs": [
    {
     "name": "stdout",
     "output_type": "stream",
     "text": [
      "clothingID                                                        829\n",
      "review              Great shirt!! i bought the red penguins and it...\n",
      "rating                                                              5\n",
      "cleanReview         shirt buy red penguin adorable return size buy...\n",
      "review_spacy_vec    [-2.7886913, 1.515917, -3.6462784, 0.39424977,...\n",
      "Name: 4821, dtype: object \n",
      "\n",
      "Great shirt!! i bought the red penguins and its adorable. i am returning it however b/c the size i bought was too big, with that said it was my error not the brand. i think it runs true to size. \n",
      "\n",
      "shirt buy red penguin adorable return size buy error brand run true size \n",
      "\n",
      "300 \n",
      "\n"
     ]
    }
   ],
   "source": [
    "print(data.loc[4821] , \"\\n\")\n",
    "print(data.loc[4821,\"review\"] , \"\\n\")\n",
    "print(data.loc[4821,\"cleanReview\"], \"\\n\")\n",
    "print(len(data.loc[4821,\"review_spacy_vec\"]), \"\\n\")"
   ]
  },
  {
   "cell_type": "code",
   "execution_count": 17,
   "metadata": {},
   "outputs": [
    {
     "data": {
      "text/plain": [
       "{0: '1', 1: '2', 2: '3', 3: '4', 4: '5'}"
      ]
     },
     "execution_count": 17,
     "metadata": {},
     "output_type": "execute_result"
    }
   ],
   "source": [
    "# bazı algoritmalar 0 1 2 .. şeklinde target değerleri ile çalışıyor\n",
    "label_encoder = LabelEncoder()\n",
    "data['rating_encoded'] = label_encoder.fit_transform(data['rating'])\n",
    "\n",
    "rating_dict = {idx:str(label) for idx, label in enumerate(label_encoder.classes_)}\n",
    "rating_dict"
   ]
  },
  {
   "cell_type": "code",
   "execution_count": 19,
   "metadata": {},
   "outputs": [],
   "source": [
    "import json\n",
    "with open(\"models/ratingDict.json\", \"w\") as json_file:\n",
    "        json.dump(rating_dict, json_file)"
   ]
  },
  {
   "cell_type": "code",
   "execution_count": 18,
   "metadata": {},
   "outputs": [
    {
     "name": "stdout",
     "output_type": "stream",
     "text": [
      "recommend\n",
      "recommend\n"
     ]
    }
   ],
   "source": [
    "t1 = \"I recommend it!\"        # 4 puan\n",
    "t2 = \"I dont recommend it! \"   # 2 paun\n",
    "print(preProcess(t1))\n",
    "print(preProcess(t2))"
   ]
  },
  {
   "cell_type": "markdown",
   "metadata": {},
   "source": [
    "# ML"
   ]
  },
  {
   "cell_type": "code",
   "execution_count": 20,
   "metadata": {},
   "outputs": [],
   "source": [
    "X = data[\"review_spacy_vec\"]\n",
    "Y=data[\"rating_encoded\"]\n",
    "randomState =4\n",
    "testSize=0.3\n",
    "x_train, x_test, y_train, y_test =train_test_split(X,Y,test_size=testSize,stratify=Y,random_state=randomState)\n"
   ]
  },
  {
   "cell_type": "code",
   "execution_count": 21,
   "metadata": {},
   "outputs": [],
   "source": [
    "x_train = np.stack(x_train)\n",
    "x_test = np.stack(x_test)"
   ]
  },
  {
   "cell_type": "code",
   "execution_count": 22,
   "metadata": {},
   "outputs": [],
   "source": [
    "minMaxScaler = MinMaxScaler() \n",
    "x_train = minMaxScaler.fit_transform(x_train)\n",
    "x_test = minMaxScaler.transform(x_test)"
   ]
  },
  {
   "cell_type": "code",
   "execution_count": 23,
   "metadata": {},
   "outputs": [],
   "source": [
    "modelPairs = [\n",
    "    {\"modelName\": \"Naive Bayes\", \"model\": MultinomialNB()},\n",
    "    {\"modelName\": \"KNN\", \"model\": KNeighborsClassifier()},\n",
    "    {\"modelName\": \"Random Forest\", \"model\": RandomForestClassifier(random_state=randomState, class_weight='balanced')},\n",
    "    {\"modelName\": \"Logistic Regression\", \"model\": LogisticRegression(random_state=randomState, class_weight='balanced')},\n",
    "    {\"modelName\": \"CatBoost\", \"model\": CatBoostClassifier(random_state=randomState, verbose=0)},\n",
    "    {\"modelName\": \"LGBM\", \"model\": lgb.LGBMClassifier(random_state=randomState, verbose=0)},\n",
    "    {\"modelName\": \"xgb\", \"model\": xgb.XGBClassifier(random_state=randomState)}\n",
    "]"
   ]
  },
  {
   "cell_type": "code",
   "execution_count": 24,
   "metadata": {},
   "outputs": [],
   "source": [
    "def calculateMatrics(modelName,y_true,y_predict):\n",
    "    accuracy = accuracy_score(y_true, y_predict)\n",
    "\n",
    "    precisionMacro = precision_score(y_true, y_predict, average='macro') \n",
    "    precisionWeighted = precision_score(y_true, y_predict, average='weighted')\n",
    "\n",
    "    recallMacro = recall_score(y_true, y_predict, average='macro') \n",
    "    recallWeighted = recall_score(y_true, y_predict, average='weighted')\n",
    "\n",
    "    f1Macro = f1_score(y_true, y_predict, average='macro') \n",
    "    f1Weighted = f1_score(y_true, y_predict, average='weighted')\n",
    "\n",
    "    return {\n",
    "            \"modelName\":modelName,\n",
    "            \"accuracy\":accuracy,\n",
    "            \"f1-scoreMacro\":f1Macro,\n",
    "            \"f1-scoreWeighted\":f1Weighted,\n",
    "            \"precisionMacro\":precisionMacro,\n",
    "            \"precisionWeighted\":precisionWeighted,\n",
    "            \"recallMacro\":recallMacro,\n",
    "            \"recallWeighted\":recallWeighted\n",
    "            }\n",
    "\n",
    "    "
   ]
  },
  {
   "cell_type": "code",
   "execution_count": 25,
   "metadata": {},
   "outputs": [],
   "source": [
    "results = []\n",
    "for modelPair in modelPairs:\n",
    "    modelName = modelPair[\"modelName\"]\n",
    "    model= modelPair[\"model\"]\n",
    "\n",
    "    model.fit(x_train,y_train)\n",
    "    predictions = model.predict(x_test)\n",
    "    \n",
    "    results.append(calculateMatrics(modelName,y_test,predictions))"
   ]
  },
  {
   "cell_type": "code",
   "execution_count": 26,
   "metadata": {},
   "outputs": [
    {
     "data": {
      "text/html": [
       "<div>\n",
       "<style scoped>\n",
       "    .dataframe tbody tr th:only-of-type {\n",
       "        vertical-align: middle;\n",
       "    }\n",
       "\n",
       "    .dataframe tbody tr th {\n",
       "        vertical-align: top;\n",
       "    }\n",
       "\n",
       "    .dataframe thead th {\n",
       "        text-align: right;\n",
       "    }\n",
       "</style>\n",
       "<table border=\"1\" class=\"dataframe\">\n",
       "  <thead>\n",
       "    <tr style=\"text-align: right;\">\n",
       "      <th></th>\n",
       "      <th>modelName</th>\n",
       "      <th>accuracy</th>\n",
       "      <th>f1-scoreMacro</th>\n",
       "      <th>f1-scoreWeighted</th>\n",
       "      <th>precisionMacro</th>\n",
       "      <th>precisionWeighted</th>\n",
       "      <th>recallMacro</th>\n",
       "      <th>recallWeighted</th>\n",
       "    </tr>\n",
       "  </thead>\n",
       "  <tbody>\n",
       "    <tr>\n",
       "      <th>3</th>\n",
       "      <td>Logistic Regression</td>\n",
       "      <td>0.506551</td>\n",
       "      <td>0.367955</td>\n",
       "      <td>0.531099</td>\n",
       "      <td>0.359159</td>\n",
       "      <td>0.572634</td>\n",
       "      <td>0.411016</td>\n",
       "      <td>0.506551</td>\n",
       "    </tr>\n",
       "    <tr>\n",
       "      <th>4</th>\n",
       "      <td>CatBoost</td>\n",
       "      <td>0.592227</td>\n",
       "      <td>0.320041</td>\n",
       "      <td>0.536504</td>\n",
       "      <td>0.415375</td>\n",
       "      <td>0.527635</td>\n",
       "      <td>0.309553</td>\n",
       "      <td>0.592227</td>\n",
       "    </tr>\n",
       "    <tr>\n",
       "      <th>5</th>\n",
       "      <td>LGBM</td>\n",
       "      <td>0.584867</td>\n",
       "      <td>0.311337</td>\n",
       "      <td>0.524682</td>\n",
       "      <td>0.419419</td>\n",
       "      <td>0.517080</td>\n",
       "      <td>0.299176</td>\n",
       "      <td>0.584867</td>\n",
       "    </tr>\n",
       "    <tr>\n",
       "      <th>6</th>\n",
       "      <td>xgb</td>\n",
       "      <td>0.576770</td>\n",
       "      <td>0.292927</td>\n",
       "      <td>0.519258</td>\n",
       "      <td>0.402261</td>\n",
       "      <td>0.508550</td>\n",
       "      <td>0.286402</td>\n",
       "      <td>0.576770</td>\n",
       "    </tr>\n",
       "    <tr>\n",
       "      <th>1</th>\n",
       "      <td>KNN</td>\n",
       "      <td>0.533638</td>\n",
       "      <td>0.277164</td>\n",
       "      <td>0.481928</td>\n",
       "      <td>0.324377</td>\n",
       "      <td>0.461869</td>\n",
       "      <td>0.270783</td>\n",
       "      <td>0.533638</td>\n",
       "    </tr>\n",
       "    <tr>\n",
       "      <th>2</th>\n",
       "      <td>Random Forest</td>\n",
       "      <td>0.558958</td>\n",
       "      <td>0.167877</td>\n",
       "      <td>0.414704</td>\n",
       "      <td>0.430731</td>\n",
       "      <td>0.480368</td>\n",
       "      <td>0.211374</td>\n",
       "      <td>0.558958</td>\n",
       "    </tr>\n",
       "    <tr>\n",
       "      <th>0</th>\n",
       "      <td>Naive Bayes</td>\n",
       "      <td>0.553805</td>\n",
       "      <td>0.142568</td>\n",
       "      <td>0.394773</td>\n",
       "      <td>0.110761</td>\n",
       "      <td>0.306700</td>\n",
       "      <td>0.200000</td>\n",
       "      <td>0.553805</td>\n",
       "    </tr>\n",
       "  </tbody>\n",
       "</table>\n",
       "</div>"
      ],
      "text/plain": [
       "             modelName  accuracy  f1-scoreMacro  f1-scoreWeighted  \\\n",
       "3  Logistic Regression  0.506551       0.367955          0.531099   \n",
       "4             CatBoost  0.592227       0.320041          0.536504   \n",
       "5                 LGBM  0.584867       0.311337          0.524682   \n",
       "6                  xgb  0.576770       0.292927          0.519258   \n",
       "1                  KNN  0.533638       0.277164          0.481928   \n",
       "2        Random Forest  0.558958       0.167877          0.414704   \n",
       "0          Naive Bayes  0.553805       0.142568          0.394773   \n",
       "\n",
       "   precisionMacro  precisionWeighted  recallMacro  recallWeighted  \n",
       "3        0.359159           0.572634     0.411016        0.506551  \n",
       "4        0.415375           0.527635     0.309553        0.592227  \n",
       "5        0.419419           0.517080     0.299176        0.584867  \n",
       "6        0.402261           0.508550     0.286402        0.576770  \n",
       "1        0.324377           0.461869     0.270783        0.533638  \n",
       "2        0.430731           0.480368     0.211374        0.558958  \n",
       "0        0.110761           0.306700     0.200000        0.553805  "
      ]
     },
     "execution_count": 26,
     "metadata": {},
     "output_type": "execute_result"
    }
   ],
   "source": [
    "pd.DataFrame(data=results).sort_values(by=\"f1-scoreMacro\", ascending=False)"
   ]
  },
  {
   "cell_type": "markdown",
   "metadata": {},
   "source": [
    "# bert"
   ]
  },
  {
   "cell_type": "code",
   "execution_count": 27,
   "metadata": {},
   "outputs": [],
   "source": [
    "train_texts, val_texts, train_labels, val_labels = train_test_split(data['review'].tolist(), \n",
    "                                                                    data['rating_encoded'].tolist(), \n",
    "                                                                    test_size=0.2, stratify=data['rating_encoded'].tolist(),\n",
    "                                                                    random_state=5)\n",
    "\n",
    "tokenizer = BertTokenizer.from_pretrained('bert-base-uncased')"
   ]
  },
  {
   "cell_type": "code",
   "execution_count": 28,
   "metadata": {},
   "outputs": [],
   "source": [
    "train_encodings = tokenizer(train_texts, truncation=True, padding=True, max_length=256)\n",
    "val_encodings = tokenizer(val_texts, truncation=True, padding=True, max_length=256)"
   ]
  },
  {
   "cell_type": "code",
   "execution_count": 29,
   "metadata": {},
   "outputs": [],
   "source": [
    "class ReviewDataset(torch.utils.data.Dataset):\n",
    "    def __init__(self, encodings, labels):\n",
    "        self.encodings = encodings\n",
    "        self.labels = labels\n",
    "\n",
    "    def __len__(self):\n",
    "        return len(self.labels)\n",
    "\n",
    "    def __getitem__(self, idx):\n",
    "        item = {key: torch.tensor(val[idx]) for key, val in self.encodings.items()}\n",
    "        item['labels'] = torch.tensor(self.labels[idx])\n",
    "        return item\n",
    "\n",
    "train_dataset = ReviewDataset(train_encodings, train_labels)\n",
    "val_dataset = ReviewDataset(val_encodings, val_labels)\n"
   ]
  },
  {
   "cell_type": "code",
   "execution_count": 30,
   "metadata": {},
   "outputs": [
    {
     "data": {
      "text/plain": [
       "device(type='cuda')"
      ]
     },
     "execution_count": 30,
     "metadata": {},
     "output_type": "execute_result"
    }
   ],
   "source": [
    "device = torch.device(\"cuda\" if torch.cuda.is_available() else \"cpu\")\n",
    "device"
   ]
  },
  {
   "cell_type": "code",
   "execution_count": null,
   "metadata": {},
   "outputs": [],
   "source": [
    "torch.cuda.empty_cache()"
   ]
  },
  {
   "cell_type": "code",
   "execution_count": null,
   "metadata": {},
   "outputs": [],
   "source": [
    "model = BertForSequenceClassification.from_pretrained('bert-base-uncased', num_labels=5)\n",
    "model = model.cuda()\n",
    "\n",
    "\n",
    "# Eğitim argümanları\n",
    "training_args = TrainingArguments(\n",
    "    output_dir='/results', \n",
    "    num_train_epochs=1,              \n",
    "    per_device_train_batch_size=8,  \n",
    "    per_device_eval_batch_size=8,                    \n",
    "    evaluation_strategy=\"epoch\",     \n",
    "    do_train=True,\n",
    "    do_eval=True\n",
    ")\n",
    "\n",
    "\n",
    "trainer = Trainer(\n",
    "    model=model,                         \n",
    "    args=training_args,                  \n",
    "    train_dataset=train_dataset,         \n",
    "    eval_dataset=val_dataset             \n",
    ")\n",
    "\n",
    "trainer.train()"
   ]
  },
  {
   "cell_type": "code",
   "execution_count": 32,
   "metadata": {},
   "outputs": [
    {
     "data": {
      "application/vnd.jupyter.widget-view+json": {
       "model_id": "51c110236110496c9877763f85c6ce7a",
       "version_major": 2,
       "version_minor": 0
      },
      "text/plain": [
       "  0%|          | 0/567 [00:00<?, ?it/s]"
      ]
     },
     "metadata": {},
     "output_type": "display_data"
    },
    {
     "name": "stdout",
     "output_type": "stream",
     "text": [
      "              precision    recall  f1-score   support\n",
      "\n",
      "           0       0.54      0.29      0.37       164\n",
      "           1       0.37      0.32      0.35       310\n",
      "           2       0.45      0.57      0.50       565\n",
      "           3       0.53      0.48      0.50       982\n",
      "           4       0.85      0.88      0.87      2508\n",
      "\n",
      "    accuracy                           0.69      4529\n",
      "   macro avg       0.55      0.51      0.52      4529\n",
      "weighted avg       0.69      0.69      0.69      4529\n",
      "\n"
     ]
    }
   ],
   "source": [
    "preds = trainer.predict(val_dataset)\n",
    "pred_labels = torch.argmax(torch.tensor(preds.predictions), axis=1)\n",
    "\n",
    "print(classification_report(val_labels, pred_labels.tolist(), zero_division=0))"
   ]
  },
  {
   "cell_type": "code",
   "execution_count": 33,
   "metadata": {},
   "outputs": [
    {
     "data": {
      "image/png": "[encoded data removed]",
      "text/plain": [
       "<Figure size 640x480 with 2 Axes>"
      ]
     },
     "metadata": {},
     "output_type": "display_data"
    }
   ],
   "source": [
    "from sklearn.metrics import confusion_matrix, ConfusionMatrixDisplay\n",
    "import seaborn as sns\n",
    "cm = confusion_matrix(val_labels, pred_labels.tolist())\n",
    "class_names = np.unique(val_labels)\n",
    "disp = ConfusionMatrixDisplay(confusion_matrix=cm, display_labels=class_names)\n",
    "disp.plot(cmap='Reds')\n",
    "plt.show()"
   ]
  },
  {
   "cell_type": "code",
   "execution_count": 34,
   "metadata": {},
   "outputs": [
    {
     "data": {
      "text/html": [
       "<div>\n",
       "<style scoped>\n",
       "    .dataframe tbody tr th:only-of-type {\n",
       "        vertical-align: middle;\n",
       "    }\n",
       "\n",
       "    .dataframe tbody tr th {\n",
       "        vertical-align: top;\n",
       "    }\n",
       "\n",
       "    .dataframe thead th {\n",
       "        text-align: right;\n",
       "    }\n",
       "</style>\n",
       "<table border=\"1\" class=\"dataframe\">\n",
       "  <thead>\n",
       "    <tr style=\"text-align: right;\">\n",
       "      <th></th>\n",
       "      <th>modelName</th>\n",
       "      <th>accuracy</th>\n",
       "      <th>f1-scoreMacro</th>\n",
       "      <th>f1-scoreWeighted</th>\n",
       "      <th>precisionMacro</th>\n",
       "      <th>precisionWeighted</th>\n",
       "      <th>recallMacro</th>\n",
       "      <th>recallWeighted</th>\n",
       "    </tr>\n",
       "  </thead>\n",
       "  <tbody>\n",
       "    <tr>\n",
       "      <th>7</th>\n",
       "      <td>bert</td>\n",
       "      <td>0.693089</td>\n",
       "      <td>0.518653</td>\n",
       "      <td>0.688611</td>\n",
       "      <td>0.550031</td>\n",
       "      <td>0.689570</td>\n",
       "      <td>0.506827</td>\n",
       "      <td>0.693089</td>\n",
       "    </tr>\n",
       "    <tr>\n",
       "      <th>3</th>\n",
       "      <td>Logistic Regression</td>\n",
       "      <td>0.506551</td>\n",
       "      <td>0.367955</td>\n",
       "      <td>0.531099</td>\n",
       "      <td>0.359159</td>\n",
       "      <td>0.572634</td>\n",
       "      <td>0.411016</td>\n",
       "      <td>0.506551</td>\n",
       "    </tr>\n",
       "    <tr>\n",
       "      <th>4</th>\n",
       "      <td>CatBoost</td>\n",
       "      <td>0.592227</td>\n",
       "      <td>0.320041</td>\n",
       "      <td>0.536504</td>\n",
       "      <td>0.415375</td>\n",
       "      <td>0.527635</td>\n",
       "      <td>0.309553</td>\n",
       "      <td>0.592227</td>\n",
       "    </tr>\n",
       "    <tr>\n",
       "      <th>5</th>\n",
       "      <td>LGBM</td>\n",
       "      <td>0.584867</td>\n",
       "      <td>0.311337</td>\n",
       "      <td>0.524682</td>\n",
       "      <td>0.419419</td>\n",
       "      <td>0.517080</td>\n",
       "      <td>0.299176</td>\n",
       "      <td>0.584867</td>\n",
       "    </tr>\n",
       "    <tr>\n",
       "      <th>6</th>\n",
       "      <td>xgb</td>\n",
       "      <td>0.576770</td>\n",
       "      <td>0.292927</td>\n",
       "      <td>0.519258</td>\n",
       "      <td>0.402261</td>\n",
       "      <td>0.508550</td>\n",
       "      <td>0.286402</td>\n",
       "      <td>0.576770</td>\n",
       "    </tr>\n",
       "    <tr>\n",
       "      <th>1</th>\n",
       "      <td>KNN</td>\n",
       "      <td>0.533638</td>\n",
       "      <td>0.277164</td>\n",
       "      <td>0.481928</td>\n",
       "      <td>0.324377</td>\n",
       "      <td>0.461869</td>\n",
       "      <td>0.270783</td>\n",
       "      <td>0.533638</td>\n",
       "    </tr>\n",
       "    <tr>\n",
       "      <th>2</th>\n",
       "      <td>Random Forest</td>\n",
       "      <td>0.558958</td>\n",
       "      <td>0.167877</td>\n",
       "      <td>0.414704</td>\n",
       "      <td>0.430731</td>\n",
       "      <td>0.480368</td>\n",
       "      <td>0.211374</td>\n",
       "      <td>0.558958</td>\n",
       "    </tr>\n",
       "    <tr>\n",
       "      <th>0</th>\n",
       "      <td>Naive Bayes</td>\n",
       "      <td>0.553805</td>\n",
       "      <td>0.142568</td>\n",
       "      <td>0.394773</td>\n",
       "      <td>0.110761</td>\n",
       "      <td>0.306700</td>\n",
       "      <td>0.200000</td>\n",
       "      <td>0.553805</td>\n",
       "    </tr>\n",
       "  </tbody>\n",
       "</table>\n",
       "</div>"
      ],
      "text/plain": [
       "             modelName  accuracy  f1-scoreMacro  f1-scoreWeighted  \\\n",
       "7                 bert  0.693089       0.518653          0.688611   \n",
       "3  Logistic Regression  0.506551       0.367955          0.531099   \n",
       "4             CatBoost  0.592227       0.320041          0.536504   \n",
       "5                 LGBM  0.584867       0.311337          0.524682   \n",
       "6                  xgb  0.576770       0.292927          0.519258   \n",
       "1                  KNN  0.533638       0.277164          0.481928   \n",
       "2        Random Forest  0.558958       0.167877          0.414704   \n",
       "0          Naive Bayes  0.553805       0.142568          0.394773   \n",
       "\n",
       "   precisionMacro  precisionWeighted  recallMacro  recallWeighted  \n",
       "7        0.550031           0.689570     0.506827        0.693089  \n",
       "3        0.359159           0.572634     0.411016        0.506551  \n",
       "4        0.415375           0.527635     0.309553        0.592227  \n",
       "5        0.419419           0.517080     0.299176        0.584867  \n",
       "6        0.402261           0.508550     0.286402        0.576770  \n",
       "1        0.324377           0.461869     0.270783        0.533638  \n",
       "2        0.430731           0.480368     0.211374        0.558958  \n",
       "0        0.110761           0.306700     0.200000        0.553805  "
      ]
     },
     "execution_count": 34,
     "metadata": {},
     "output_type": "execute_result"
    }
   ],
   "source": [
    "results.append(calculateMatrics(\"bert\",val_labels,pred_labels.tolist()))\n",
    "pd.DataFrame(data=results).sort_values(by=\"f1-scoreMacro\", ascending=False)"
   ]
  },
  {
   "cell_type": "code",
   "execution_count": null,
   "metadata": {},
   "outputs": [],
   "source": [
    "#trainer.save_model(\"models/classificationModels/bert\")"
   ]
  },
  {
   "cell_type": "markdown",
   "metadata": {},
   "source": [
    "# fasttext"
   ]
  },
  {
   "cell_type": "code",
   "execution_count": 35,
   "metadata": {},
   "outputs": [
    {
     "data": {
      "text/html": [
       "<div>\n",
       "<style scoped>\n",
       "    .dataframe tbody tr th:only-of-type {\n",
       "        vertical-align: middle;\n",
       "    }\n",
       "\n",
       "    .dataframe tbody tr th {\n",
       "        vertical-align: top;\n",
       "    }\n",
       "\n",
       "    .dataframe thead th {\n",
       "        text-align: right;\n",
       "    }\n",
       "</style>\n",
       "<table border=\"1\" class=\"dataframe\">\n",
       "  <thead>\n",
       "    <tr style=\"text-align: right;\">\n",
       "      <th></th>\n",
       "      <th>clothingID</th>\n",
       "      <th>review</th>\n",
       "      <th>rating</th>\n",
       "      <th>cleanReview</th>\n",
       "      <th>review_spacy_vec</th>\n",
       "      <th>rating_encoded</th>\n",
       "      <th>textRate</th>\n",
       "    </tr>\n",
       "  </thead>\n",
       "  <tbody>\n",
       "    <tr>\n",
       "      <th>0</th>\n",
       "      <td>767</td>\n",
       "      <td>Absolutely wonderful - silky and sexy and comf...</td>\n",
       "      <td>4</td>\n",
       "      <td>absolutely wonderful silky sexy comfortable</td>\n",
       "      <td>[0.039214037, 0.37505996, -2.378078, -2.250537...</td>\n",
       "      <td>3</td>\n",
       "      <td>__label__4 Absolutely wonderful - silky and se...</td>\n",
       "    </tr>\n",
       "  </tbody>\n",
       "</table>\n",
       "</div>"
      ],
      "text/plain": [
       "   clothingID                                             review  rating  \\\n",
       "0         767  Absolutely wonderful - silky and sexy and comf...       4   \n",
       "\n",
       "                                   cleanReview  \\\n",
       "0  absolutely wonderful silky sexy comfortable   \n",
       "\n",
       "                                    review_spacy_vec  rating_encoded  \\\n",
       "0  [0.039214037, 0.37505996, -2.378078, -2.250537...               3   \n",
       "\n",
       "                                            textRate  \n",
       "0  __label__4 Absolutely wonderful - silky and se...  "
      ]
     },
     "execution_count": 35,
     "metadata": {},
     "output_type": "execute_result"
    }
   ],
   "source": [
    "fasttextData = data.copy()\n",
    "fasttextData[\"textRate\"]= \"__label__\"+fasttextData[\"rating\"].astype(str)+\" \"+fasttextData[\"review\"]\n",
    "fasttextData.head(1)"
   ]
  },
  {
   "cell_type": "code",
   "execution_count": 36,
   "metadata": {},
   "outputs": [
    {
     "data": {
      "text/plain": [
       "((18112, 7), (4529, 7))"
      ]
     },
     "execution_count": 36,
     "metadata": {},
     "output_type": "execute_result"
    }
   ],
   "source": [
    "train, test = train_test_split(fasttextData, test_size=0.2)\n",
    "train.shape, test.shape"
   ]
  },
  {
   "cell_type": "code",
   "execution_count": 37,
   "metadata": {},
   "outputs": [],
   "source": [
    "train['textRate'].to_csv('data/Clothing/train.txt', index=False, header=False)\n",
    "test['textRate'].to_csv('data/Clothing/test.txt', index=False, header=False)"
   ]
  },
  {
   "cell_type": "code",
   "execution_count": 38,
   "metadata": {},
   "outputs": [
    {
     "data": {
      "text/plain": [
       "(1146, 0.6631762652705061, 0.6631762652705061)"
      ]
     },
     "execution_count": 38,
     "metadata": {},
     "output_type": "execute_result"
    }
   ],
   "source": [
    "import fasttext\n",
    "model = fasttext.train_supervised(input='data/Clothing/train.txt')\n",
    "model.test('data/Clothing/test.txt')"
   ]
  },
  {
   "cell_type": "code",
   "execution_count": 39,
   "metadata": {},
   "outputs": [
    {
     "name": "stdout",
     "output_type": "stream",
     "text": [
      "              precision    recall  f1-score   support\n",
      "\n",
      "           1       0.17      0.03      0.05       148\n",
      "           2       0.28      0.13      0.18       309\n",
      "           3       0.35      0.06      0.10       588\n",
      "           4       0.18      0.02      0.03       939\n",
      "           5       0.60      0.99      0.75      2545\n",
      "\n",
      "    accuracy                           0.58      4529\n",
      "   macro avg       0.32      0.24      0.22      4529\n",
      "weighted avg       0.45      0.58      0.45      4529\n",
      "\n"
     ]
    }
   ],
   "source": [
    "true_labels = test['rating'].tolist()\n",
    "\n",
    "predicted_labels = []\n",
    "for text in test['review']:\n",
    "    text = text.replace(\"\\n\",\" \")\n",
    "    label, _ = model.predict(text)\n",
    "    predicted_labels.append(int(label[0].replace('__label__', '')))\n",
    "\n",
    "print(classification_report(true_labels, predicted_labels))"
   ]
  },
  {
   "cell_type": "code",
   "execution_count": 40,
   "metadata": {},
   "outputs": [
    {
     "data": {
      "text/html": [
       "<div>\n",
       "<style scoped>\n",
       "    .dataframe tbody tr th:only-of-type {\n",
       "        vertical-align: middle;\n",
       "    }\n",
       "\n",
       "    .dataframe tbody tr th {\n",
       "        vertical-align: top;\n",
       "    }\n",
       "\n",
       "    .dataframe thead th {\n",
       "        text-align: right;\n",
       "    }\n",
       "</style>\n",
       "<table border=\"1\" class=\"dataframe\">\n",
       "  <thead>\n",
       "    <tr style=\"text-align: right;\">\n",
       "      <th></th>\n",
       "      <th>modelName</th>\n",
       "      <th>accuracy</th>\n",
       "      <th>f1-scoreMacro</th>\n",
       "      <th>f1-scoreWeighted</th>\n",
       "      <th>precisionMacro</th>\n",
       "      <th>precisionWeighted</th>\n",
       "      <th>recallMacro</th>\n",
       "      <th>recallWeighted</th>\n",
       "    </tr>\n",
       "  </thead>\n",
       "  <tbody>\n",
       "    <tr>\n",
       "      <th>7</th>\n",
       "      <td>bert</td>\n",
       "      <td>0.693089</td>\n",
       "      <td>0.518653</td>\n",
       "      <td>0.688611</td>\n",
       "      <td>0.550031</td>\n",
       "      <td>0.689570</td>\n",
       "      <td>0.506827</td>\n",
       "      <td>0.693089</td>\n",
       "    </tr>\n",
       "    <tr>\n",
       "      <th>3</th>\n",
       "      <td>Logistic Regression</td>\n",
       "      <td>0.506551</td>\n",
       "      <td>0.367955</td>\n",
       "      <td>0.531099</td>\n",
       "      <td>0.359159</td>\n",
       "      <td>0.572634</td>\n",
       "      <td>0.411016</td>\n",
       "      <td>0.506551</td>\n",
       "    </tr>\n",
       "    <tr>\n",
       "      <th>4</th>\n",
       "      <td>CatBoost</td>\n",
       "      <td>0.592227</td>\n",
       "      <td>0.320041</td>\n",
       "      <td>0.536504</td>\n",
       "      <td>0.415375</td>\n",
       "      <td>0.527635</td>\n",
       "      <td>0.309553</td>\n",
       "      <td>0.592227</td>\n",
       "    </tr>\n",
       "    <tr>\n",
       "      <th>5</th>\n",
       "      <td>LGBM</td>\n",
       "      <td>0.584867</td>\n",
       "      <td>0.311337</td>\n",
       "      <td>0.524682</td>\n",
       "      <td>0.419419</td>\n",
       "      <td>0.517080</td>\n",
       "      <td>0.299176</td>\n",
       "      <td>0.584867</td>\n",
       "    </tr>\n",
       "    <tr>\n",
       "      <th>6</th>\n",
       "      <td>xgb</td>\n",
       "      <td>0.576770</td>\n",
       "      <td>0.292927</td>\n",
       "      <td>0.519258</td>\n",
       "      <td>0.402261</td>\n",
       "      <td>0.508550</td>\n",
       "      <td>0.286402</td>\n",
       "      <td>0.576770</td>\n",
       "    </tr>\n",
       "    <tr>\n",
       "      <th>1</th>\n",
       "      <td>KNN</td>\n",
       "      <td>0.533638</td>\n",
       "      <td>0.277164</td>\n",
       "      <td>0.481928</td>\n",
       "      <td>0.324377</td>\n",
       "      <td>0.461869</td>\n",
       "      <td>0.270783</td>\n",
       "      <td>0.533638</td>\n",
       "    </tr>\n",
       "    <tr>\n",
       "      <th>8</th>\n",
       "      <td>fasttext</td>\n",
       "      <td>0.576286</td>\n",
       "      <td>0.220884</td>\n",
       "      <td>0.454305</td>\n",
       "      <td>0.316871</td>\n",
       "      <td>0.446853</td>\n",
       "      <td>0.243996</td>\n",
       "      <td>0.576286</td>\n",
       "    </tr>\n",
       "    <tr>\n",
       "      <th>2</th>\n",
       "      <td>Random Forest</td>\n",
       "      <td>0.558958</td>\n",
       "      <td>0.167877</td>\n",
       "      <td>0.414704</td>\n",
       "      <td>0.430731</td>\n",
       "      <td>0.480368</td>\n",
       "      <td>0.211374</td>\n",
       "      <td>0.558958</td>\n",
       "    </tr>\n",
       "    <tr>\n",
       "      <th>0</th>\n",
       "      <td>Naive Bayes</td>\n",
       "      <td>0.553805</td>\n",
       "      <td>0.142568</td>\n",
       "      <td>0.394773</td>\n",
       "      <td>0.110761</td>\n",
       "      <td>0.306700</td>\n",
       "      <td>0.200000</td>\n",
       "      <td>0.553805</td>\n",
       "    </tr>\n",
       "  </tbody>\n",
       "</table>\n",
       "</div>"
      ],
      "text/plain": [
       "             modelName  accuracy  f1-scoreMacro  f1-scoreWeighted  \\\n",
       "7                 bert  0.693089       0.518653          0.688611   \n",
       "3  Logistic Regression  0.506551       0.367955          0.531099   \n",
       "4             CatBoost  0.592227       0.320041          0.536504   \n",
       "5                 LGBM  0.584867       0.311337          0.524682   \n",
       "6                  xgb  0.576770       0.292927          0.519258   \n",
       "1                  KNN  0.533638       0.277164          0.481928   \n",
       "8             fasttext  0.576286       0.220884          0.454305   \n",
       "2        Random Forest  0.558958       0.167877          0.414704   \n",
       "0          Naive Bayes  0.553805       0.142568          0.394773   \n",
       "\n",
       "   precisionMacro  precisionWeighted  recallMacro  recallWeighted  \n",
       "7        0.550031           0.689570     0.506827        0.693089  \n",
       "3        0.359159           0.572634     0.411016        0.506551  \n",
       "4        0.415375           0.527635     0.309553        0.592227  \n",
       "5        0.419419           0.517080     0.299176        0.584867  \n",
       "6        0.402261           0.508550     0.286402        0.576770  \n",
       "1        0.324377           0.461869     0.270783        0.533638  \n",
       "8        0.316871           0.446853     0.243996        0.576286  \n",
       "2        0.430731           0.480368     0.211374        0.558958  \n",
       "0        0.110761           0.306700     0.200000        0.553805  "
      ]
     },
     "execution_count": 40,
     "metadata": {},
     "output_type": "execute_result"
    }
   ],
   "source": [
    "results.append(calculateMatrics(\"fasttext\",true_labels, predicted_labels))\n",
    "classificationAlgInfo=pd.DataFrame(data=results).sort_values(by=\"f1-scoreMacro\", ascending=False)\n",
    "classificationAlgInfo"
   ]
  },
  {
   "cell_type": "code",
   "execution_count": null,
   "metadata": {},
   "outputs": [],
   "source": [
    "#classificationAlgInfo.to_csv(\"models/classificationModels/classificationAlgInfo.csv\")"
   ]
  }
 ],
 "metadata": {
  "kernelspec": {
   "display_name": "Python 3",
   "language": "python",
   "name": "python3"
  },
  "language_info": {
   "codemirror_mode": {
    "name": "ipython",
    "version": 3
   },
   "file_extension": ".py",
   "mimetype": "text/x-python",
   "name": "python",
   "nbconvert_exporter": "python",
   "pygments_lexer": "ipython3",
   "version": "3.10.6"
  }
 },
 "nbformat": 4,
 "nbformat_minor": 2
}
