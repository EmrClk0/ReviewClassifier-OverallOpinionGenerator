{
 "cells": [
  {
   "cell_type": "code",
   "execution_count": 1,
   "metadata": {},
   "outputs": [],
   "source": [
    "import pandas as pd # type: ignore\n",
    "import json\n",
    "from langchain import PromptTemplate # type: ignore\n",
    "from huggingface_hub import login # type: ignore\n",
    "\n",
    "from models.llmModels.HGModel import HGModel\n",
    "from models.llmModels.GPT import GPT\n",
    "\n",
    "\n"
   ]
  },
  {
   "cell_type": "code",
   "execution_count": 2,
   "metadata": {},
   "outputs": [],
   "source": [
    "#data ' dan target id ye göre filtrleme yapar ve reviewleri text list olarak döndürür.\n",
    "def reviewListGenarator(data,targetID):\n",
    "    filteredDF = data[data[\"clothingID\"]==targetID]\n",
    "    reviewList = filteredDF[\"cleanReview\"].tolist()\n",
    "    return reviewList\n",
    "\n",
    "\n",
    "# Reviewleri birleştirir ve promt oluşturur.\n",
    "def inputGenerator(reviewList):\n",
    "    template = \"\"\" Analyze the user reviews provided below and create a concise paragraph summarizing the overall sentiment. Your summary should answer the following questions: Do users generally like or dislike the dress? What features are most appreciated or criticized? Do users recommend the dress? Include any additional informations observed, but keep the output as a single cohesive paragraph. Here are the user reviews:\n",
    "    {revs}\n",
    "    \"\"\"\n",
    "\n",
    "    prompt = PromptTemplate(\n",
    "        input_variables=[\"revs\"],\n",
    "        template=template\n",
    "    )\n",
    "    \n",
    "    text = \"Review: \"+\" Review: \".join(reviewList)\n",
    "    inputText = prompt.format(revs=text)\n",
    "    return inputText"
   ]
  },
  {
   "cell_type": "code",
   "execution_count": 3,
   "metadata": {},
   "outputs": [],
   "source": [
    "def jsonWriter(data,path):\n",
    "    with open(path, \"w\") as json_file:\n",
    "        json.dump(data, json_file)\n",
    "\n"
   ]
  },
  {
   "cell_type": "code",
   "execution_count": 4,
   "metadata": {},
   "outputs": [],
   "source": [
    "data =pd.read_csv(\"data/Clothing/clothingClear.csv\")\n",
    "config_data = json.load(open(\"config.json\"))\n"
   ]
  },
  {
   "cell_type": "code",
   "execution_count": 5,
   "metadata": {},
   "outputs": [],
   "source": [
    "targetID = 1110\n",
    "reviewList = reviewListGenarator(data,targetID)\n",
    "input = inputGenerator(reviewList)"
   ]
  },
  {
   "cell_type": "markdown",
   "metadata": {},
   "source": [
    "gpt llm"
   ]
  },
  {
   "cell_type": "code",
   "execution_count": 8,
   "metadata": {},
   "outputs": [],
   "source": [
    "API_KEY=config_data[\"GPT_API_KEY\"]\n",
    "GPT_TOKEN_LIMIT=128000\n",
    "\n",
    "gptModel = GPT(API_KEY,GPT_TOKEN_LIMIT)\n",
    "\n",
    "input = inputGenerator(reviewList)\n"
   ]
  },
  {
   "cell_type": "code",
   "execution_count": 9,
   "metadata": {},
   "outputs": [
    {
     "data": {
      "text/plain": [
       "\"Overall, user sentiment regarding the dress is mixed, with many expressing strong appreciation for its style, comfort, and flattering fit, while others raise concerns about sizing inconsistencies and fit issues. Users frequently highlight the dress's cute design, soft fabric, and versatility for various occasions, such as weddings and casual outings, with many recommending it for its aesthetic appeal. However, criticisms mainly focus on the dress running large, especially around the armholes and bust, leading to recommendations to size down for a better fit. A significant number of reviewers also mention the need for alterations due to the dress's fit not aligning with typical sizing charts. Despite some negative remarks about fabric quality and fit, the majority of users seem satisfied with their purchases and would recommend the dress to others, especially for those who appreciate unique and feminine styles.\""
      ]
     },
     "execution_count": 9,
     "metadata": {},
     "output_type": "execute_result"
    }
   ],
   "source": [
    "gptResponse=gptModel.request(input)\n",
    "gptResponse"
   ]
  },
  {
   "cell_type": "raw",
   "metadata": {
    "vscode": {
     "languageId": "raw"
    }
   },
   "source": [
    "jsonWriter({\"model\":\"gpt\",\n",
    "            \"response\":gptResponse},\"models/llmModels/llmResponses/gpt.json\")"
   ]
  },
  {
   "cell_type": "markdown",
   "metadata": {},
   "source": [
    "LLAMA LLM"
   ]
  },
  {
   "cell_type": "code",
   "execution_count": null,
   "metadata": {},
   "outputs": [],
   "source": [
    "LLAMA_TOKEN_LIMIT=128000\n",
    "LLAMA_MODEL_NAME=\"meta-llama/Llama-3.2-1B-Instruct\"\n",
    "HF_TOKEN = config_data[\"HF_TOKEN\"]\n",
    "login(HF_TOKEN)\n",
    "\n"
   ]
  },
  {
   "cell_type": "code",
   "execution_count": 8,
   "metadata": {},
   "outputs": [],
   "source": [
    "LLAMAmodel = HGModel(LLAMA_MODEL_NAME,LLAMA_TOKEN_LIMIT)\n",
    "input = inputGenerator(reviewList)"
   ]
  },
  {
   "cell_type": "code",
   "execution_count": 10,
   "metadata": {},
   "outputs": [
    {
     "data": {
      "text/plain": [
       "' Overall sentiment: The overall sentiment of the user reviews is overwhelmingly positive, with many reviewers praising the dress for its comfort, style, and quality. Reviewers appreciate the dress\\'s flattering fit, comfortable design, and beautiful color. The reviews also mention the dress\\'s ability to make the wearer feel confident and beautiful, which is a key aspect of the reviewer\\'s experience. The reviews are generally positive, with only a few reviewers mentioning a few minor issues, such as the dress\\'s sizing being a bit too small. Overall, the reviews suggest that the dress is a great purchase, and many reviewers would recommend it to others. The reviews are also consistent in their praise for the dress, with no negative comments or criticisms. This suggests that the dress is a high-quality product that meets the reviewer\\'s expectations. The reviews are enthusiastic and glowing, with many reviewers using phrases like \"love,\" \"flattering,\" and \"beautiful\" to describe the dress. This suggests that the reviewer is very satisfied with the dress and would highly recommend it to others. The reviews also mention the dress\\'s ability to make the wearer feel special, which is another key aspect of the reviewer\\'s experience. Overall, the reviews suggest that the dress is a great purchase, and many reviewers would recommend it to others.'"
      ]
     },
     "execution_count": 10,
     "metadata": {},
     "output_type": "execute_result"
    }
   ],
   "source": [
    "llmaResponse=LLAMAmodel.request(input,256)\n",
    "llmaResponse"
   ]
  },
  {
   "cell_type": "raw",
   "metadata": {
    "vscode": {
     "languageId": "raw"
    }
   },
   "source": [
    "jsonWriter({\"model\":\"llama\",\n",
    "            \"response\":llmaResponse},\"models/llmModels/llmResponses/llama.json\")"
   ]
  },
  {
   "cell_type": "markdown",
   "metadata": {},
   "source": [
    "QWEN LLM"
   ]
  },
  {
   "cell_type": "code",
   "execution_count": null,
   "metadata": {},
   "outputs": [],
   "source": [
    "HF_TOKEN = config_data[\"HF_TOKEN\"]\n",
    "login(HF_TOKEN)"
   ]
  },
  {
   "cell_type": "code",
   "execution_count": 7,
   "metadata": {},
   "outputs": [],
   "source": [
    "QWEN_TOKEN_LIMIT=32768\n",
    "QWEN_MODEL_NAME=\"Qwen/Qwen2-1.5B-Instruct\""
   ]
  },
  {
   "cell_type": "code",
   "execution_count": 8,
   "metadata": {},
   "outputs": [],
   "source": [
    "QWENmodel = HGModel(QWEN_MODEL_NAME,QWEN_TOKEN_LIMIT)\n",
    "input = inputGenerator(reviewList)"
   ]
  },
  {
   "cell_type": "code",
   "execution_count": 10,
   "metadata": {},
   "outputs": [
    {
     "data": {
      "text/plain": [
       "\" The overall sentiment of the user reviews seems to be mostly positive with some mixed opinions. Users seem to appreciate the dress's style, fabric, and fit, especially for those who are not traditional fashionistas. However, there were also a few negative comments about the dress's durability and sizing issues.\\n\\nThe dress has a flowy design that makes it appropriate for summer events, while its soft fabric ensures comfort all day long. Many reviewers mentioned how great the dress looks on different body types, including those with a pear-shaped body. However, a few users complained about the dress's tendency to wrinkle easily and its inability to withstand frequent wears.\\n\\nIn terms of sizing, users had mixed experiences with the dress. Some found it too small or too large, while others felt it was just right. There were complaints about the dress's elastic waistband being too tight or too loose, which affected their comfort levels. Additionally, several users noted that the dress's sleeves were too tight, causing discomfort when moving around.\\n\\nOverall, the reviews indicate that this dress offers good value for money, particularly if you're looking for something affordable and comfortable for everyday wear. However, users should exercise caution when purchasing it since it may not last as long as expected due to its delicate nature. It's recommended\""
      ]
     },
     "execution_count": 10,
     "metadata": {},
     "output_type": "execute_result"
    }
   ],
   "source": [
    "QWENresponse=QWENmodel.request(input,256)\n",
    "QWENresponse"
   ]
  },
  {
   "cell_type": "raw",
   "metadata": {
    "vscode": {
     "languageId": "raw"
    }
   },
   "source": [
    "jsonWriter({\"model\":\"qwen\",\n",
    "            \"response\":QWENresponse},\"models/llmModels/llmResponses/qwen.json\")"
   ]
  }
 ],
 "metadata": {
  "kernelspec": {
   "display_name": "Python 3",
   "language": "python",
   "name": "python3"
  },
  "language_info": {
   "codemirror_mode": {
    "name": "ipython",
    "version": 3
   },
   "file_extension": ".py",
   "mimetype": "text/x-python",
   "name": "python",
   "nbconvert_exporter": "python",
   "pygments_lexer": "ipython3",
   "version": "3.10.6"
  }
 },
 "nbformat": 4,
 "nbformat_minor": 2
}
