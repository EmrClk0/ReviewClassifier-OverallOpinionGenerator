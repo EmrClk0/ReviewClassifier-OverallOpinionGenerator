{
 "cells": [
  {
   "cell_type": "code",
   "execution_count": 1,
   "metadata": {},
   "outputs": [
    {
     "name": "stdout",
     "output_type": "stream",
     "text": [
      "WARNING:tensorflow:From c:\\Users\\emrul\\AppData\\Local\\Programs\\Python\\Python310\\lib\\site-packages\\tf_keras\\src\\losses.py:2976: The name tf.losses.sparse_softmax_cross_entropy is deprecated. Please use tf.compat.v1.losses.sparse_softmax_cross_entropy instead.\n",
      "\n"
     ]
    }
   ],
   "source": [
    "import pandas as pd\n",
    "import numpy as np\n",
    "\n",
    "#Görselleştirme\n",
    "import matplotlib.pyplot as plt\n",
    "import plotly.express as px\n",
    "from wordcloud import WordCloud\n",
    "\n",
    "#cleaning\n",
    "import re\n",
    "from bs4 import BeautifulSoup\n",
    "\n",
    "\n",
    "\n",
    "from sklearn.model_selection import train_test_split\n",
    "from sklearn.metrics import accuracy_score, precision_score, recall_score, f1_score, classification_report\n",
    "\n",
    "from sklearn.preprocessing import LabelEncoder\n",
    "\n",
    "\n",
    "import torch\n",
    "from transformers import TrainingArguments, Trainer\n",
    "from transformers import BertTokenizer, BertForSequenceClassification\n",
    "\n",
    "\n"
   ]
  },
  {
   "cell_type": "code",
   "execution_count": 2,
   "metadata": {},
   "outputs": [],
   "source": [
    "data =pd.read_csv(\"data/Clothing/clothingClear.csv\")\n"
   ]
  },
  {
   "cell_type": "code",
   "execution_count": 3,
   "metadata": {},
   "outputs": [
    {
     "data": {
      "text/plain": [
       "{0: '1', 1: '2', 2: '3', 3: '4', 4: '5'}"
      ]
     },
     "execution_count": 3,
     "metadata": {},
     "output_type": "execute_result"
    }
   ],
   "source": [
    "label_encoder = LabelEncoder()\n",
    "data['rating_encoded'] = label_encoder.fit_transform(data['rating'])\n",
    "rating_dict = {idx:str(label) for idx, label in enumerate(label_encoder.classes_)}\n",
    "rating_dict"
   ]
  },
  {
   "cell_type": "code",
   "execution_count": 4,
   "metadata": {},
   "outputs": [
    {
     "data": {
      "text/html": [
       "<div>\n",
       "<style scoped>\n",
       "    .dataframe tbody tr th:only-of-type {\n",
       "        vertical-align: middle;\n",
       "    }\n",
       "\n",
       "    .dataframe tbody tr th {\n",
       "        vertical-align: top;\n",
       "    }\n",
       "\n",
       "    .dataframe thead th {\n",
       "        text-align: right;\n",
       "    }\n",
       "</style>\n",
       "<table border=\"1\" class=\"dataframe\">\n",
       "  <thead>\n",
       "    <tr style=\"text-align: right;\">\n",
       "      <th></th>\n",
       "      <th>clothingID</th>\n",
       "      <th>review</th>\n",
       "      <th>rating</th>\n",
       "      <th>cleanReview</th>\n",
       "      <th>rating_encoded</th>\n",
       "    </tr>\n",
       "  </thead>\n",
       "  <tbody>\n",
       "    <tr>\n",
       "      <th>0</th>\n",
       "      <td>767</td>\n",
       "      <td>Absolutely wonderful - silky and sexy and comf...</td>\n",
       "      <td>4</td>\n",
       "      <td>absolutely wonderful silky sexy comfortable</td>\n",
       "      <td>3</td>\n",
       "    </tr>\n",
       "    <tr>\n",
       "      <th>1</th>\n",
       "      <td>1080</td>\n",
       "      <td>Love this dress!  it's sooo pretty.  i happene...</td>\n",
       "      <td>5</td>\n",
       "      <td>love dress sooo pretty happen store glad bc on...</td>\n",
       "      <td>4</td>\n",
       "    </tr>\n",
       "    <tr>\n",
       "      <th>2</th>\n",
       "      <td>1077</td>\n",
       "      <td>I had such high hopes for this dress and reall...</td>\n",
       "      <td>3</td>\n",
       "      <td>hope dress initially petite usual size outrage...</td>\n",
       "      <td>2</td>\n",
       "    </tr>\n",
       "  </tbody>\n",
       "</table>\n",
       "</div>"
      ],
      "text/plain": [
       "   clothingID                                             review  rating  \\\n",
       "0         767  Absolutely wonderful - silky and sexy and comf...       4   \n",
       "1        1080  Love this dress!  it's sooo pretty.  i happene...       5   \n",
       "2        1077  I had such high hopes for this dress and reall...       3   \n",
       "\n",
       "                                         cleanReview  rating_encoded  \n",
       "0        absolutely wonderful silky sexy comfortable               3  \n",
       "1  love dress sooo pretty happen store glad bc on...               4  \n",
       "2  hope dress initially petite usual size outrage...               2  "
      ]
     },
     "execution_count": 4,
     "metadata": {},
     "output_type": "execute_result"
    }
   ],
   "source": [
    "data.head(3)"
   ]
  },
  {
   "cell_type": "code",
   "execution_count": 5,
   "metadata": {},
   "outputs": [],
   "source": [
    "def softClean(review):\n",
    "\n",
    "    #küçük harf dönüşümü\n",
    "    review = review.lower()\n",
    "\n",
    "    #html ayıkla \n",
    "    review = BeautifulSoup(review,\"html.parser\").get_text()\n",
    "\n",
    "    #yabancı karakter ayıkla\n",
    "    review= re.sub('[^A-Za-z]',\" \",review)\n",
    "    review = re.sub(r'\\s+', ' ', review).strip()\n",
    "    \n",
    "    return review \n",
    "\n",
    "#data[\"softReview\"]=data[\"review\"].apply(lambda review: softClean(review))"
   ]
  },
  {
   "cell_type": "code",
   "execution_count": 6,
   "metadata": {},
   "outputs": [],
   "source": [
    "train_texts, val_texts, train_labels, val_labels = train_test_split(data['review'].tolist(), \n",
    "                                                                    data['rating_encoded'].tolist(), \n",
    "                                                                    test_size=0.2, stratify=data['rating_encoded'].tolist(),\n",
    "                                                                    random_state=5)\n",
    "\n",
    "tokenizer = BertTokenizer.from_pretrained('bert-base-uncased')"
   ]
  },
  {
   "cell_type": "code",
   "execution_count": 7,
   "metadata": {},
   "outputs": [],
   "source": [
    "train_encodings = tokenizer(train_texts, truncation=True, padding=True, max_length=256)\n",
    "val_encodings = tokenizer(val_texts, truncation=True, padding=True, max_length=256)"
   ]
  },
  {
   "cell_type": "code",
   "execution_count": 8,
   "metadata": {},
   "outputs": [],
   "source": [
    "class ReviewDataset(torch.utils.data.Dataset):\n",
    "    def __init__(self, encodings, labels):\n",
    "        self.encodings = encodings\n",
    "        self.labels = labels\n",
    "\n",
    "    def __len__(self):\n",
    "        return len(self.labels)\n",
    "\n",
    "    def __getitem__(self, idx):\n",
    "        item = {key: torch.tensor(val[idx]) for key, val in self.encodings.items()}\n",
    "        item['labels'] = torch.tensor(self.labels[idx])\n",
    "        return item\n",
    "\n",
    "train_dataset = ReviewDataset(train_encodings, train_labels)\n",
    "val_dataset = ReviewDataset(val_encodings, val_labels)\n"
   ]
  },
  {
   "cell_type": "code",
   "execution_count": 9,
   "metadata": {},
   "outputs": [
    {
     "data": {
      "text/plain": [
       "device(type='cuda')"
      ]
     },
     "execution_count": 9,
     "metadata": {},
     "output_type": "execute_result"
    }
   ],
   "source": [
    "device = torch.device(\"cuda\" if torch.cuda.is_available() else \"cpu\")\n",
    "device"
   ]
  },
  {
   "cell_type": "code",
   "execution_count": 10,
   "metadata": {},
   "outputs": [],
   "source": [
    "#torch.cuda.empty_cache()"
   ]
  },
  {
   "cell_type": "code",
   "execution_count": 11,
   "metadata": {},
   "outputs": [
    {
     "name": "stderr",
     "output_type": "stream",
     "text": [
      "Some weights of BertForSequenceClassification were not initialized from the model checkpoint at bert-base-uncased and are newly initialized: ['classifier.bias', 'classifier.weight']\n",
      "You should probably TRAIN this model on a down-stream task to be able to use it for predictions and inference.\n"
     ]
    }
   ],
   "source": [
    "model = BertForSequenceClassification.from_pretrained('bert-base-uncased', num_labels=5)\n",
    "model = model.cuda()\n"
   ]
  },
  {
   "cell_type": "code",
   "execution_count": null,
   "metadata": {},
   "outputs": [
    {
     "name": "stderr",
     "output_type": "stream",
     "text": [
      "c:\\Users\\emrul\\AppData\\Local\\Programs\\Python\\Python310\\lib\\site-packages\\transformers\\training_args.py:1568: FutureWarning: `evaluation_strategy` is deprecated and will be removed in version 4.46 of 🤗 Transformers. Use `eval_strategy` instead\n",
      "  warnings.warn(\n"
     ]
    }
   ],
   "source": [
    "# Eğitim argümanları\n",
    "training_args = TrainingArguments(\n",
    "    output_dir='/results',\n",
    "    overwrite_output_dir=True,\n",
    "\n",
    "    evaluation_strategy=\"steps\", #epoch yap yada steps sayısını küçült batch büyült\n",
    "    eval_steps=500, # stepte bir doğruklama\n",
    "   \n",
    "    do_train=True,\n",
    "    do_eval=True,\n",
    "\n",
    "    per_device_train_batch_size=8,  \n",
    "    per_device_eval_batch_size=8,\n",
    "\n",
    "    torch_empty_cache_steps=501,  # cuda cache clear\n",
    "    learning_rate=5e-5,\n",
    "    weight_decay=0.01,\n",
    "\n",
    "    num_train_epochs=10,\n",
    "\n",
    "    warmup_ratio=0.05,\n",
    "\n",
    "    #log_level=\"info\", #silinebilir\n",
    "    #logging_strategy steps\n",
    "    #logging_steps (int or float, optional, defaults to 500\n",
    "    logging_dir='/logs', \n",
    "\n",
    "    load_best_model_at_end=True, \n",
    "    save_strategy=\"steps\", #modelin eğitim sırasında checkpoint kaydetme stratejisini \n",
    "    save_steps=500,\n",
    "    save_total_limit=3,\n",
    "\n",
    "    #restore_callback_states_from_checkpoint=True, #Eğer eğitim sırasında kullanılan callback'lerin (örneğin, eğitim izleme, erken durdurma vb.) durumlarının devam etmesini istiyorsanız kullanabilirsiniz.\n",
    "    metric_for_best_model=\"accuracy\",  # en iyi modelin belirlenmesinde kullanılan değerlendirme metriğini\n",
    "\n",
    "\n",
    "                   \n",
    ")\n"
   ]
  },
  {
   "cell_type": "code",
   "execution_count": null,
   "metadata": {},
   "outputs": [],
   "source": [
    "from sklearn.metrics import accuracy_score, recall_score, precision_score, f1_score, roc_auc_score\n",
    "import numpy as np\n",
    "\n",
    "\n",
    "\n",
    "def compute_metrics(p):\n",
    "\n",
    "    pred, labels = p\n",
    "    pred = np.argmax(pred, axis=-1) \n",
    "    \n",
    "   \n",
    "    \n",
    "    accuracy = accuracy_score(y_true=labels, y_pred=pred)\n",
    "    \n",
    "    precisionMacro = precision_score(labels, pred, average='macro', zero_division=0) \n",
    "    precisionWeighted = precision_score(labels, pred, average='weighted', zero_division=0)\n",
    "\n",
    "    recallMacro = recall_score(labels, pred, average='macro') \n",
    "    recallWeighted = recall_score(labels, pred, average='weighted')\n",
    "\n",
    "    f1Macro = f1_score(labels, pred, average='macro') \n",
    "    f1Weighted = f1_score(labels, pred, average='weighted')\n",
    "\n",
    "    return {\n",
    "            \"accuracy\":accuracy,\n",
    "            \"f1-scoreMacro\":f1Macro,\n",
    "            \"f1-scoreWeighted\":f1Weighted,\n",
    "            \"precisionMacro\":precisionMacro,\n",
    "            \"precisionWeighted\":precisionWeighted,\n",
    "            \"recallMacro\":recallMacro,\n",
    "            \"recallWeighted\":recallWeighted\n",
    "            }\n"
   ]
  },
  {
   "cell_type": "code",
   "execution_count": null,
   "metadata": {},
   "outputs": [],
   "source": [
    "from transformers import EarlyStoppingCallback\n",
    "trainer = Trainer(\n",
    "    model=model,                         \n",
    "    args=training_args,                  \n",
    "    train_dataset=train_dataset,         \n",
    "    eval_dataset=val_dataset,\n",
    "    compute_metrics=compute_metrics,  \n",
    "    callbacks=[EarlyStoppingCallback(early_stopping_patience=2)]\n",
    "          \n",
    ")\n",
    "\n",
    "trainer.train()"
   ]
  },
  {
   "cell_type": "code",
   "execution_count": 15,
   "metadata": {},
   "outputs": [
    {
     "data": {
      "application/vnd.jupyter.widget-view+json": {
       "model_id": "8062c25f9f274667839ad7916c2d837d",
       "version_major": 2,
       "version_minor": 0
      },
      "text/plain": [
       "  0%|          | 0/567 [00:00<?, ?it/s]"
      ]
     },
     "metadata": {},
     "output_type": "display_data"
    },
    {
     "name": "stdout",
     "output_type": "stream",
     "text": [
      "              precision    recall  f1-score   support\n",
      "\n",
      "           0       0.34      0.54      0.42       164\n",
      "           1       0.39      0.27      0.32       310\n",
      "           2       0.48      0.41      0.44       565\n",
      "           3       0.56      0.37      0.44       982\n",
      "           4       0.80      0.93      0.86      2508\n",
      "\n",
      "    accuracy                           0.69      4529\n",
      "   macro avg       0.51      0.51      0.50      4529\n",
      "weighted avg       0.66      0.69      0.67      4529\n",
      "\n"
     ]
    }
   ],
   "source": [
    "preds = trainer.predict(val_dataset)\n",
    "pred_labels = torch.argmax(torch.tensor(preds.predictions), axis=1)\n",
    "\n",
    "print(classification_report(val_labels, pred_labels.tolist(), zero_division=0))"
   ]
  },
  {
   "cell_type": "code",
   "execution_count": 16,
   "metadata": {},
   "outputs": [
    {
     "data": {
      "image/png": "[encoded data removed]",
      "text/plain": [
       "<Figure size 640x480 with 2 Axes>"
      ]
     },
     "metadata": {},
     "output_type": "display_data"
    }
   ],
   "source": [
    "from sklearn.metrics import confusion_matrix, ConfusionMatrixDisplay\n",
    "import seaborn as sns\n",
    "cm = confusion_matrix(val_labels, pred_labels.tolist())\n",
    "class_names = np.unique(val_labels)\n",
    "disp = ConfusionMatrixDisplay(confusion_matrix=cm, display_labels=class_names)\n",
    "disp.plot(cmap='Reds')\n",
    "plt.show()"
   ]
  },
  {
   "cell_type": "code",
   "execution_count": null,
   "metadata": {},
   "outputs": [
    {
     "data": {
      "image/png": "[encoded data removed]",
      "text/plain": [
       "<Figure size 800x400 with 1 Axes>"
      ]
     },
     "metadata": {},
     "output_type": "display_data"
    }
   ],
   "source": [
    "import matplotlib.pyplot as plt\n",
    "\n",
    "# Log history \n",
    "log_history = trainer.state.log_history\n",
    "\n",
    "\n",
    "train_loss = [log.get('loss') for log in log_history if 'loss' in log]\n",
    "eval_loss = [log.get('eval_loss') for log in log_history if 'eval_loss' in log]\n",
    "auc = [log.get('auc') for log in log_history if 'auc' in log]\n",
    "\n",
    "\n",
    "if train_loss or eval_loss:  \n",
    "    plt.figure(figsize=(8, 4))\n",
    "    if train_loss:\n",
    "        plt.plot(train_loss, label='Training Loss')\n",
    "    if eval_loss:\n",
    "        plt.plot(eval_loss, label='Evaluation Loss')\n",
    "    plt.xlabel('Step')\n",
    "    plt.ylabel('Loss')\n",
    "    plt.title('Training and Evaluation Loss')\n",
    "    plt.legend()\n",
    "    plt.show()\n",
    "else:\n",
    "    print(\"No loss data available to plot.\")\n",
    "\n",
    "\n"
   ]
  },
  {
   "cell_type": "code",
   "execution_count": null,
   "metadata": {},
   "outputs": [],
   "source": [
    "#trainer.save_model(\"models/classificationModels/bert\")"
   ]
  }
 ],
 "metadata": {
  "kernelspec": {
   "display_name": "Python 3",
   "language": "python",
   "name": "python3"
  },
  "language_info": {
   "codemirror_mode": {
    "name": "ipython",
    "version": 3
   },
   "file_extension": ".py",
   "mimetype": "text/x-python",
   "name": "python",
   "nbconvert_exporter": "python",
   "pygments_lexer": "ipython3",
   "version": "3.10.6"
  }
 },
 "nbformat": 4,
 "nbformat_minor": 2
}
