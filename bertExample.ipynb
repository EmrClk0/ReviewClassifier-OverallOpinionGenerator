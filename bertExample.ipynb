{
 "cells": [
  {
   "cell_type": "code",
   "execution_count": null,
   "metadata": {},
   "outputs": [],
   "source": [
    "import json\n",
    "from models.classificationModels.BERTClassifier import BERTClassifier"
   ]
  },
  {
   "cell_type": "code",
   "execution_count": 2,
   "metadata": {},
   "outputs": [],
   "source": [
    "with open(\"models/ratingDict.json\", \"r\") as json_file:\n",
    "        ratingDict = json.load(json_file)\n",
    "\n",
    "def decodePredictedClass(predictedClass):\n",
    "    return int(ratingDict[str(predictedClass)])\n"
   ]
  },
  {
   "cell_type": "code",
   "execution_count": 3,
   "metadata": {},
   "outputs": [],
   "source": [
    "model_path = \"models/classificationModels/bert\"  "
   ]
  },
  {
   "cell_type": "code",
   "execution_count": null,
   "metadata": {},
   "outputs": [
    {
     "name": "stdout",
     "output_type": "stream",
     "text": [
      "Model loaded successfully and set to evaluation mode.\n"
     ]
    }
   ],
   "source": [
    "bertModel = BERTClassifier(modelPath=model_path)"
   ]
  },
  {
   "cell_type": "code",
   "execution_count": 5,
   "metadata": {},
   "outputs": [],
   "source": [
    "text1 = \"This product is really amazing! I liked it a lot and I will buy it again.\"\n",
    "text2 = \"This product is good, but it didn't exceed my expectations. While I liked it, I feel there could be some improvements. It's a solid purchase, but not extraordinary.\"\n",
    "text3 = \"This product is disappointing. It didn't work as expected and I regret buying it. The quality is poor, and I won't be purchasing again.\"\n"
   ]
  },
  {
   "cell_type": "code",
   "execution_count": null,
   "metadata": {},
   "outputs": [
    {
     "data": {
      "text/plain": [
       "5"
      ]
     },
     "execution_count": 6,
     "metadata": {},
     "output_type": "execute_result"
    }
   ],
   "source": [
    "text1 = \"This product is really amazing! I liked it a lot and I will buy it again.\"\n",
    "predictedClass=bertModel.predict(text1)\n",
    "decodePredictedClass(predictedClass)"
   ]
  },
  {
   "cell_type": "code",
   "execution_count": null,
   "metadata": {},
   "outputs": [
    {
     "data": {
      "text/plain": [
       "3"
      ]
     },
     "execution_count": 7,
     "metadata": {},
     "output_type": "execute_result"
    }
   ],
   "source": [
    "text2 = \"This product is good, but it didn't exceed my expectations. While I liked it, I feel there could be some improvements. It's a solid purchase, but not extraordinary.\"\n",
    "predictedClass=bertModel.predict(text2)\n",
    "decodePredictedClass(predictedClass)"
   ]
  },
  {
   "cell_type": "code",
   "execution_count": null,
   "metadata": {},
   "outputs": [
    {
     "data": {
      "text/plain": [
       "1"
      ]
     },
     "execution_count": 8,
     "metadata": {},
     "output_type": "execute_result"
    }
   ],
   "source": [
    "text3 = \"This product is disappointing. It didn't work as expected and I regret buying it. The quality is poor, and I won't be purchasing again.\"\n",
    "predictedClass=bertModel.predict(text3)\n",
    "decodePredictedClass(predictedClass)"
   ]
  },
  {
   "cell_type": "code",
   "execution_count": null,
   "metadata": {},
   "outputs": [],
   "source": []
  }
 ],
 "metadata": {
  "kernelspec": {
   "display_name": "Python 3",
   "language": "python",
   "name": "python3"
  },
  "language_info": {
   "codemirror_mode": {
    "name": "ipython",
    "version": 3
   },
   "file_extension": ".py",
   "mimetype": "text/x-python",
   "name": "python",
   "nbconvert_exporter": "python",
   "pygments_lexer": "ipython3",
   "version": "3.10.6"
  }
 },
 "nbformat": 4,
 "nbformat_minor": 2
}
